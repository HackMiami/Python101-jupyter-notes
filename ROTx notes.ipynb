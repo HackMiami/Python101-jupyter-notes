{
 "cells": [
  {
   "cell_type": "code",
   "execution_count": 5,
   "metadata": {},
   "outputs": [],
   "source": [
    "message='Iwt Rpthpg rxewtg xh dct du iwt tpgaxthi zcdlc pcs hxbeathi rxewtgh.'\n",
    "chars = \"abcdefghijklmnopqrstuvwxyz\""
   ]
  },
  {
   "cell_type": "code",
   "execution_count": 6,
   "metadata": {},
   "outputs": [
    {
     "name": "stdout",
     "output_type": "stream",
     "text": [
      "0  --  Iwt Rpthpg rxewtg xh dct du iwt tpgaxthi zcdlc pcs hxbeathi rxewtgh. \n",
      "\n",
      "1  --  Jxu Squiqh syfxuh yi edu ev jxu uqhbyuij ademd qdt iycfbuij syfxuhi. \n",
      "\n",
      "2  --  Kyv Trvjri tzgyvi zj fev fw kyv vriczvjk befne reu jzdgcvjk tzgyvij. \n",
      "\n",
      "3  --  Lzw Uswksj uahzwj ak gfw gx lzw wsjdawkl cfgof sfv kaehdwkl uahzwjk. \n",
      "\n",
      "4  --  Max Vtxltk vbiaxk bl hgx hy max xtkebxlm dghpg tgw lbfiexlm vbiaxkl. \n",
      "\n",
      "5  --  Nby Wuymul wcjbyl cm ihy iz nby yulfcymn ehiqh uhx mcgjfymn wcjbylm. \n",
      "\n",
      "6  --  Ocz Xvznvm xdkczm dn jiz ja ocz zvmgdzno fijri viy ndhkgzno xdkczmn. \n",
      "\n",
      "7  --  Pda Ywaown yeldan eo kja kb pda awnheaop gjksj wjz oeilhaop yeldano. \n",
      "\n",
      "8  --  Qeb Zxbpxo zfmebo fp lkb lc qeb bxoifbpq hkltk xka pfjmibpq zfmebop. \n",
      "\n",
      "9  --  Rfc Aycqyp agnfcp gq mlc md rfc cypjgcqr ilmul ylb qgknjcqr agnfcpq. \n",
      "\n",
      "10  --  Sgd Bzdrzq bhogdq hr nmd ne sgd dzqkhdrs jmnvm zmc rhlokdrs bhogdqr. \n",
      "\n",
      "11  --  The Caesar cipher is one of the earliest known and simplest ciphers. \n",
      "\n",
      "12  --  Uif Dbftbs djqifs jt pof pg uif fbsmjftu lopxo boe tjnqmftu djqifst. \n",
      "\n",
      "13  --  Vjg Ecguct ekrjgt ku qpg qh vjg gctnkguv mpqyp cpf ukornguv ekrjgtu. \n",
      "\n",
      "14  --  Wkh Fdhvdu flskhu lv rqh ri wkh hduolhvw nqrzq dqg vlpsohvw flskhuv. \n",
      "\n",
      "15  --  Xli Geiwev gmtliv mw sri sj xli ievpmiwx orsar erh wmqtpiwx gmtlivw. \n",
      "\n",
      "16  --  Ymj Hfjxfw hnumjw nx tsj tk ymj jfwqnjxy pstbs fsi xnruqjxy hnumjwx. \n",
      "\n",
      "17  --  Znk Igkygx iovnkx oy utk ul znk kgxrokyz qtuct gtj yosvrkyz iovnkxy. \n",
      "\n",
      "18  --  Aol Jhlzhy jpwoly pz vul vm aol lhysplza ruvdu huk zptwslza jpwolyz. \n",
      "\n",
      "19  --  Bpm Kimaiz kqxpmz qa wvm wn bpm miztqmab svwev ivl aquxtmab kqxpmza. \n",
      "\n",
      "20  --  Cqn Ljnbja lryqna rb xwn xo cqn njaurnbc twxfw jwm brvyunbc lryqnab. \n",
      "\n",
      "21  --  Dro Mkockb mszrob sc yxo yp dro okbvsocd uxygx kxn cswzvocd mszrobc. \n",
      "\n",
      "22  --  Esp Nlpdlc ntaspc td zyp zq esp plcwtpde vyzhy lyo dtxawpde ntaspcd. \n",
      "\n",
      "23  --  Ftq Omqemd oubtqd ue azq ar ftq qmdxuqef wzaiz mzp euybxqef oubtqde. \n",
      "\n",
      "24  --  Gur Pnrfne pvcure vf bar bs gur rneyvrfg xabja naq fvzcyrfg pvcuref. \n",
      "\n",
      "25  --  Hvs Qosgof qwdvsf wg cbs ct hvs sofzwsgh ybckb obr gwadzsgh qwdvsfg. \n",
      "\n",
      "26  --  Iwt Rpthpg rxewtg xh dct du iwt tpgaxthi zcdlc pcs hxbeathi rxewtgh. \n",
      "\n"
     ]
    }
   ],
   "source": [
    "rot=''\n",
    "for n in range(27):\n",
    "    trans = chars[n:]+chars[:n]\n",
    "    for i in message:\n",
    "        if i.isalpha() == True:\n",
    "            if i.isupper() == True:\n",
    "                num=chars.find(i.lower())\n",
    "                rot+=trans[num].upper()\n",
    "            else:\n",
    "                num=chars.find(i)\n",
    "                rot+=trans[num] \n",
    "        else:\n",
    "            rot+=i\n",
    "    print n,' -- ',rot,'\\n'\n",
    "    rot=''"
   ]
  },
  {
   "cell_type": "code",
   "execution_count": 7,
   "metadata": {},
   "outputs": [],
   "source": [
    "hex_message=''\n",
    "ord_message=''\n",
    "for i in message:\n",
    "    ord_message+=str(ord(i))+' '\n",
    "    hex_message+=hex(ord(i))[2:]+' '"
   ]
  },
  {
   "cell_type": "code",
   "execution_count": 8,
   "metadata": {},
   "outputs": [
    {
     "name": "stdout",
     "output_type": "stream",
     "text": [
      "73 119 116 32 82 112 116 104 112 103 32 114 120 101 119 116 103 32 120 104 32 100 99 116 32 100 117 32 105 119 116 32 116 112 103 97 120 116 104 105 32 122 99 100 108 99 32 112 99 115 32 104 120 98 101 97 116 104 105 32 114 120 101 119 116 103 104 46 \n",
      "49 77 74 20 52 70 74 68 70 67 20 72 78 65 77 74 67 20 78 68 20 64 63 74 20 64 75 20 69 77 74 20 74 70 67 61 78 74 68 69 20 7a 63 64 6c 63 20 70 63 73 20 68 78 62 65 61 74 68 69 20 72 78 65 77 74 67 68 2e \n"
     ]
    }
   ],
   "source": [
    "print ord_message\n",
    "print hex_message"
   ]
  },
  {
   "cell_type": "code",
   "execution_count": 9,
   "metadata": {},
   "outputs": [
    {
     "name": "stdout",
     "output_type": "stream",
     "text": [
      "['73', '119', '116', '32', '82', '112', '116', '104', '112', '103', '32', '114', '120', '101', '119', '116', '103', '32', '120', '104', '32', '100', '99', '116', '32', '100', '117', '32', '105', '119', '116', '32', '116', '112', '103', '97', '120', '116', '104', '105', '32', '122', '99', '100', '108', '99', '32', '112', '99', '115', '32', '104', '120', '98', '101', '97', '116', '104', '105', '32', '114', '120', '101', '119', '116', '103', '104', '46', '']\n",
      "['73', '119', '116', '32', '82', '112', '116', '104', '112', '103', '32', '114', '120', '101', '119', '116', '103', '32', '120', '104', '32', '100', '99', '116', '32', '100', '117', '32', '105', '119', '116', '32', '116', '112', '103', '97', '120', '116', '104', '105', '32', '122', '99', '100', '108', '99', '32', '112', '99', '115', '32', '104', '120', '98', '101', '97', '116', '104', '105', '32', '114', '120', '101', '119', '116', '103', '104', '46']\n",
      "<type 'str'>\n"
     ]
    }
   ],
   "source": [
    "ord_message_list = ord_message.split(' ')\n",
    "print ord_message_list\n",
    "ord_message_list.pop()\n",
    "print ord_message_list\n",
    "print type(ord_message_list[0])"
   ]
  },
  {
   "cell_type": "code",
   "execution_count": 10,
   "metadata": {},
   "outputs": [
    {
     "name": "stdout",
     "output_type": "stream",
     "text": [
      "Iwt Rpthpg rxewtg xh dct du iwt tpgaxthi zcdlc pcs hxbeathi rxewtgh.\n"
     ]
    }
   ],
   "source": [
    "deord=''\n",
    "for i in ord_message_list:\n",
    "    deord+=chr(int(i))   \n",
    "print deord"
   ]
  },
  {
   "cell_type": "code",
   "execution_count": 23,
   "metadata": {},
   "outputs": [
    {
     "name": "stdout",
     "output_type": "stream",
     "text": [
      "['49', '77', '74', '20', '52', '70', '74', '68', '70', '67', '20', '72', '78', '65', '77', '74', '67', '20', '78', '68', '20', '64', '63', '74', '20', '64', '75', '20', '69', '77', '74', '20', '74', '70', '67', '61', '78', '74', '68', '69', '20', '7a', '63', '64', '6c', '63', '20', '70', '63', '73', '20', '68', '78', '62', '65', '61', '74', '68', '69', '20', '72', '78', '65', '77', '74', '67', '68', '2e']\n",
      "<type 'str'>\n"
     ]
    }
   ],
   "source": [
    "hex_message_list = hex_message.strip().split(' ')\n",
    "print hex_message_list\n",
    "print type(hex_message_list[0])"
   ]
  },
  {
   "cell_type": "code",
   "execution_count": 12,
   "metadata": {},
   "outputs": [
    {
     "name": "stdout",
     "output_type": "stream",
     "text": [
      "Iwt Rpthpg rxewtg xh dct du iwt tpgaxthi zcdlc pcs hxbeathi rxewtgh.\n"
     ]
    }
   ],
   "source": [
    "de_hex_ord=''\n",
    "for i in hex_message_list:\n",
    "    de_hex_ord+=chr(int(i,16)) \n",
    "    #print int(i,16)\n",
    "print de_hex_ord"
   ]
  },
  {
   "cell_type": "code",
   "execution_count": 13,
   "metadata": {},
   "outputs": [
    {
     "name": "stdout",
     "output_type": "stream",
     "text": [
      "['EMPTYSTRING', 'MAXBINSIZE', 'MAXLINESIZE', '__all__', '__builtins__', '__doc__', '__file__', '__name__', '__package__', '_b32alphabet', '_b32rev', '_b32tab', '_translate', '_translation', '_urlsafe_decode_translation', '_urlsafe_encode_translation', '_x', 'b16decode', 'b16encode', 'b32decode', 'b32encode', 'b64decode', 'b64encode', 'binascii', 'decode', 'decodestring', 'encode', 'encodestring', 'k', 're', 'standard_b64decode', 'standard_b64encode', 'string', 'struct', 'test', 'test1', 'urlsafe_b64decode', 'urlsafe_b64encode', 'v']\n",
      "Help on function b64encode in module base64:\n",
      "\n",
      "b64encode(s, altchars=None)\n",
      "    Encode a string using Base64.\n",
      "    \n",
      "    s is the string to encode.  Optional altchars must be a string of at least\n",
      "    length 2 (additional characters are ignored) which specifies an\n",
      "    alternative alphabet for the '+' and '/' characters.  This allows an\n",
      "    application to e.g. generate url or filesystem safe Base64 strings.\n",
      "    \n",
      "    The encoded string is returned.\n",
      "\n",
      "None\n",
      "Help on function b64decode in module base64:\n",
      "\n",
      "b64decode(s, altchars=None)\n",
      "    Decode a Base64 encoded string.\n",
      "    \n",
      "    s is the string to decode.  Optional altchars must be a string of at least\n",
      "    length 2 (additional characters are ignored) which specifies the\n",
      "    alternative alphabet used instead of the '+' and '/' characters.\n",
      "    \n",
      "    The decoded string is returned.  A TypeError is raised if s is\n",
      "    incorrectly padded.  Characters that are neither in the normal base-64\n",
      "    alphabet nor the alternative alphabet are discarded prior to the padding\n",
      "    check.\n",
      "\n",
      "None\n",
      "NDkgNzcgNzQgMjAgNTIgNzAgNzQgNjggNzAgNjcgMjAgNzIgNzggNjUgNzcgNzQgNjcgMjAgNzggNjggMjAgNjQgNjMgNzQgMjAgNjQgNzUgMjAgNjkgNzcgNzQgMjAgNzQgNzAgNjcgNjEgNzggNzQgNjggNjkgMjAgN2EgNjMgNjQgNmMgNjMgMjAgNzAgNjMgNzMgMjAgNjggNzggNjIgNjUgNjEgNzQgNjggNjkgMjAgNzIgNzggNjUgNzcgNzQgNjcgNjggMmUg\n",
      "49 77 74 20 52 70 74 68 70 67 20 72 78 65 77 74 67 20 78 68 20 64 63 74 20 64 75 20 69 77 74 20 74 70 67 61 78 74 68 69 20 7a 63 64 6c 63 20 70 63 73 20 68 78 62 65 61 74 68 69 20 72 78 65 77 74 67 68 2e \n"
     ]
    }
   ],
   "source": [
    "import base64                                                        \n",
    "\n",
    "print (dir(base64))\n",
    "print (help(base64.b64encode))\n",
    "print (help(base64.b64decode))\n",
    "\n",
    "b64= base64.b64encode(hex_message)\n",
    "print b64\n",
    "print base64.b64decode(b64)"
   ]
  },
  {
   "cell_type": "code",
   "execution_count": 20,
   "metadata": {},
   "outputs": [
    {
     "name": "stdout",
     "output_type": "stream",
     "text": [
      "['EX_CANTCREAT', 'EX_CONFIG', 'EX_DATAERR', 'EX_IOERR', 'EX_NOHOST', 'EX_NOINPUT', 'EX_NOPERM', 'EX_NOUSER', 'EX_OK', 'EX_OSERR', 'EX_OSFILE', 'EX_PROTOCOL', 'EX_SOFTWARE', 'EX_TEMPFAIL', 'EX_UNAVAILABLE', 'EX_USAGE', 'F_OK', 'NGROUPS_MAX', 'O_APPEND', 'O_ASYNC', 'O_CREAT', 'O_DIRECTORY', 'O_DSYNC', 'O_EXCL', 'O_EXLOCK', 'O_NDELAY', 'O_NOCTTY', 'O_NOFOLLOW', 'O_NONBLOCK', 'O_RDONLY', 'O_RDWR', 'O_SHLOCK', 'O_SYNC', 'O_TRUNC', 'O_WRONLY', 'P_NOWAIT', 'P_NOWAITO', 'P_WAIT', 'R_OK', 'SEEK_CUR', 'SEEK_END', 'SEEK_SET', 'TMP_MAX', 'UserDict', 'WCONTINUED', 'WCOREDUMP', 'WEXITSTATUS', 'WIFCONTINUED', 'WIFEXITED', 'WIFSIGNALED', 'WIFSTOPPED', 'WNOHANG', 'WSTOPSIG', 'WTERMSIG', 'WUNTRACED', 'W_OK', 'X_OK', '_Environ', '__all__', '__builtins__', '__doc__', '__file__', '__name__', '__package__', '_copy_reg', '_execvpe', '_exists', '_exit', '_get_exports_list', '_make_stat_result', '_make_statvfs_result', '_pickle_stat_result', '_pickle_statvfs_result', '_spawnvef', 'abort', 'access', 'altsep', 'chdir', 'chflags', 'chmod', 'chown', 'chroot', 'close', 'closerange', 'confstr', 'confstr_names', 'ctermid', 'curdir', 'defpath', 'devnull', 'dup', 'dup2', 'environ', 'errno', 'error', 'execl', 'execle', 'execlp', 'execlpe', 'execv', 'execve', 'execvp', 'execvpe', 'extsep', 'fchdir', 'fchmod', 'fchown', 'fdopen', 'fork', 'forkpty', 'fpathconf', 'fstat', 'fstatvfs', 'fsync', 'ftruncate', 'getcwd', 'getcwdu', 'getegid', 'getenv', 'geteuid', 'getgid', 'getgroups', 'getloadavg', 'getlogin', 'getpgid', 'getpgrp', 'getpid', 'getppid', 'getsid', 'getuid', 'initgroups', 'isatty', 'kill', 'killpg', 'lchflags', 'lchmod', 'lchown', 'linesep', 'link', 'listdir', 'lseek', 'lstat', 'major', 'makedev', 'makedirs', 'minor', 'mkdir', 'mkfifo', 'mknod', 'name', 'nice', 'open', 'openpty', 'pardir', 'path', 'pathconf', 'pathconf_names', 'pathsep', 'pipe', 'popen', 'popen2', 'popen3', 'popen4', 'putenv', 'read', 'readlink', 'remove', 'removedirs', 'rename', 'renames', 'rmdir', 'sep', 'setegid', 'seteuid', 'setgid', 'setgroups', 'setpgid', 'setpgrp', 'setregid', 'setreuid', 'setsid', 'setuid', 'spawnl', 'spawnle', 'spawnlp', 'spawnlpe', 'spawnv', 'spawnve', 'spawnvp', 'spawnvpe', 'stat', 'stat_float_times', 'stat_result', 'statvfs', 'statvfs_result', 'strerror', 'symlink', 'sys', 'sysconf', 'sysconf_names', 'system', 'tcgetpgrp', 'tcsetpgrp', 'tempnam', 'times', 'tmpfile', 'tmpnam', 'ttyname', 'umask', 'uname', 'unlink', 'unsetenv', 'urandom', 'utime', 'wait', 'wait3', 'wait4', 'waitpid', 'walk', 'write'] \n",
      "-------------------------------------------------- \n",
      "\n",
      "['.DS_Store', '.DocumentRevisions-V100', '.OSInstallerMessages', '.PKInstallSandboxManager-SystemSoftware', '.Spotlight-V100', '.TemporaryItems', '.Trashes', '.dbfseventsd', '.file', '.fseventsd', '.hotfiles.btree', '.vol', 'Applications', 'Library', 'Network', 'System', 'Users', 'Volumes', 'bin', 'cores', 'dev', 'etc', 'home', 'installer.failurerequests', 'keybase', 'net', 'opt', 'private', 'sbin', 'tmp', 'usr', 'var']\n"
     ]
    }
   ],
   "source": [
    "import os \n",
    "print dir(os),'\\n','-'*50,'\\n\\n',os.listdir('/')"
   ]
  },
  {
   "cell_type": "code",
   "execution_count": 17,
   "metadata": {},
   "outputs": [
    {
     "ename": "IOError",
     "evalue": "[Errno 2] No such file or directory: '/Users/jrespeto/Dropbox/Documents/py-notesbooks/../../Desktop/download.jpg'",
     "output_type": "error",
     "traceback": [
      "\u001b[0;31m---------------------------------------------------------------------------\u001b[0m",
      "\u001b[0;31mIOError\u001b[0m                                   Traceback (most recent call last)",
      "\u001b[0;32m<ipython-input-17-31df777ce8f7>\u001b[0m in \u001b[0;36m<module>\u001b[0;34m()\u001b[0m\n\u001b[1;32m      1\u001b[0m \u001b[0;32mimport\u001b[0m \u001b[0mbase64\u001b[0m\u001b[0;34m\u001b[0m\u001b[0m\n\u001b[0;32m----> 2\u001b[0;31m \u001b[0mfh\u001b[0m\u001b[0;34m=\u001b[0m\u001b[0mopen\u001b[0m\u001b[0;34m(\u001b[0m\u001b[0mos\u001b[0m\u001b[0;34m.\u001b[0m\u001b[0mgetcwd\u001b[0m\u001b[0;34m(\u001b[0m\u001b[0;34m)\u001b[0m\u001b[0;34m+\u001b[0m\u001b[0;34m'/../../Desktop/download.jpg'\u001b[0m\u001b[0;34m,\u001b[0m\u001b[0;34m'rb'\u001b[0m\u001b[0;34m)\u001b[0m\u001b[0;34m\u001b[0m\u001b[0m\n\u001b[0m\u001b[1;32m      3\u001b[0m \u001b[0mb\u001b[0m\u001b[0;34m=\u001b[0m\u001b[0;34m''\u001b[0m\u001b[0;34m\u001b[0m\u001b[0m\n\u001b[1;32m      4\u001b[0m \u001b[0mb\u001b[0m\u001b[0;34m=\u001b[0m\u001b[0mbase64\u001b[0m\u001b[0;34m.\u001b[0m\u001b[0mb64encode\u001b[0m\u001b[0;34m(\u001b[0m\u001b[0mfh\u001b[0m\u001b[0;34m.\u001b[0m\u001b[0mread\u001b[0m\u001b[0;34m(\u001b[0m\u001b[0;34m)\u001b[0m\u001b[0;34m)\u001b[0m\u001b[0;34m\u001b[0m\u001b[0m\n\u001b[1;32m      5\u001b[0m \u001b[0;34m\u001b[0m\u001b[0m\n",
      "\u001b[0;31mIOError\u001b[0m: [Errno 2] No such file or directory: '/Users/jrespeto/Dropbox/Documents/py-notesbooks/../../Desktop/download.jpg'"
     ]
    }
   ],
   "source": [
    "import base64\n",
    "fh=open(os.getcwd()+'/../../Desktop/download.jpg','rb')\n",
    "b=''\n",
    "b=base64.b64encode(fh.read())\n",
    "\n",
    "fh.close()\n",
    "b"
   ]
  }
 ],
 "metadata": {
  "kernelspec": {
   "display_name": "Python 2",
   "language": "python",
   "name": "python2"
  },
  "language_info": {
   "codemirror_mode": {
    "name": "ipython",
    "version": 2
   },
   "file_extension": ".py",
   "mimetype": "text/x-python",
   "name": "python",
   "nbconvert_exporter": "python",
   "pygments_lexer": "ipython2",
   "version": "2.7.15"
  }
 },
 "nbformat": 4,
 "nbformat_minor": 2
}
